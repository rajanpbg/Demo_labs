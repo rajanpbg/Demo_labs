{
  "nbformat": 4,
  "nbformat_minor": 0,
  "metadata": {
    "colab": {
      "name": "Perceptron.ipynb",
      "provenance": []
    },
    "kernelspec": {
      "name": "python3",
      "display_name": "Python 3"
    }
  },
  "cells": [
    {
      "cell_type": "markdown",
      "metadata": {
        "id": "DhDa-vI0eF44",
        "colab_type": "text"
      },
      "source": [
        "# Pytorch Demo \n",
        "## Lets construct the basic model with perceptron\n"
      ]
    },
    {
      "cell_type": "code",
      "metadata": {
        "id": "M49QsByfnQgf",
        "colab_type": "code",
        "colab": {
          "base_uri": "https://localhost:8080/",
          "height": 68
        },
        "outputId": "32262e57-f8ba-4545-ac1e-82f193a78842"
      },
      "source": [
        "!pip3 install torch"
      ],
      "execution_count": 2,
      "outputs": [
        {
          "output_type": "stream",
          "text": [
            "Requirement already satisfied: torch in /usr/local/lib/python3.6/dist-packages (1.6.0+cu101)\n",
            "Requirement already satisfied: future in /usr/local/lib/python3.6/dist-packages (from torch) (0.16.0)\n",
            "Requirement already satisfied: numpy in /usr/local/lib/python3.6/dist-packages (from torch) (1.18.5)\n"
          ],
          "name": "stdout"
        }
      ]
    },
    {
      "cell_type": "code",
      "metadata": {
        "id": "Ryap-Zb2pFEY",
        "colab_type": "code",
        "colab": {}
      },
      "source": [
        "import torch\n",
        "import numpy as np\n",
        "import matplotlib.pyplot as plt\n",
        "import torch.nn as nn\n",
        "from torch.autograd import Variable"
      ],
      "execution_count": 138,
      "outputs": []
    },
    {
      "cell_type": "code",
      "metadata": {
        "id": "dZqZy5yIvAY6",
        "colab_type": "code",
        "colab": {}
      },
      "source": [
        "import pandas as pd\n",
        "my_data=pd.read_csv(\"https://github.com/rajanpbg/machinelearning/raw/deep-learning/data/energydata_complete.csv\")"
      ],
      "execution_count": 45,
      "outputs": []
    },
    {
      "cell_type": "code",
      "metadata": {
        "id": "7bML254UwgXW",
        "colab_type": "code",
        "colab": {
          "base_uri": "https://localhost:8080/",
          "height": 224
        },
        "outputId": "8d3e1ee9-a48a-496f-f3f8-530fc9341724"
      },
      "source": [
        "my_data=my_data.drop(columns=[\"date\"])\n",
        "my_data.head()"
      ],
      "execution_count": 46,
      "outputs": [
        {
          "output_type": "execute_result",
          "data": {
            "text/html": [
              "<div>\n",
              "<style scoped>\n",
              "    .dataframe tbody tr th:only-of-type {\n",
              "        vertical-align: middle;\n",
              "    }\n",
              "\n",
              "    .dataframe tbody tr th {\n",
              "        vertical-align: top;\n",
              "    }\n",
              "\n",
              "    .dataframe thead th {\n",
              "        text-align: right;\n",
              "    }\n",
              "</style>\n",
              "<table border=\"1\" class=\"dataframe\">\n",
              "  <thead>\n",
              "    <tr style=\"text-align: right;\">\n",
              "      <th></th>\n",
              "      <th>Appliances</th>\n",
              "      <th>lights</th>\n",
              "      <th>T1</th>\n",
              "      <th>RH_1</th>\n",
              "      <th>T2</th>\n",
              "      <th>RH_2</th>\n",
              "      <th>T3</th>\n",
              "      <th>RH_3</th>\n",
              "      <th>T4</th>\n",
              "      <th>RH_4</th>\n",
              "      <th>T5</th>\n",
              "      <th>RH_5</th>\n",
              "      <th>T6</th>\n",
              "      <th>RH_6</th>\n",
              "      <th>T7</th>\n",
              "      <th>RH_7</th>\n",
              "      <th>T8</th>\n",
              "      <th>RH_8</th>\n",
              "      <th>T9</th>\n",
              "      <th>RH_9</th>\n",
              "      <th>T_out</th>\n",
              "      <th>Press_mm_hg</th>\n",
              "      <th>RH_out</th>\n",
              "      <th>Windspeed</th>\n",
              "      <th>Visibility</th>\n",
              "      <th>Tdewpoint</th>\n",
              "      <th>rv1</th>\n",
              "      <th>rv2</th>\n",
              "    </tr>\n",
              "  </thead>\n",
              "  <tbody>\n",
              "    <tr>\n",
              "      <th>0</th>\n",
              "      <td>60</td>\n",
              "      <td>30</td>\n",
              "      <td>19.89</td>\n",
              "      <td>47.596667</td>\n",
              "      <td>19.2</td>\n",
              "      <td>44.790000</td>\n",
              "      <td>19.79</td>\n",
              "      <td>44.730000</td>\n",
              "      <td>19.000000</td>\n",
              "      <td>45.566667</td>\n",
              "      <td>17.166667</td>\n",
              "      <td>55.20</td>\n",
              "      <td>7.026667</td>\n",
              "      <td>84.256667</td>\n",
              "      <td>17.200000</td>\n",
              "      <td>41.626667</td>\n",
              "      <td>18.2</td>\n",
              "      <td>48.900000</td>\n",
              "      <td>17.033333</td>\n",
              "      <td>45.53</td>\n",
              "      <td>6.600000</td>\n",
              "      <td>733.5</td>\n",
              "      <td>92.0</td>\n",
              "      <td>7.000000</td>\n",
              "      <td>63.000000</td>\n",
              "      <td>5.3</td>\n",
              "      <td>13.275433</td>\n",
              "      <td>13.275433</td>\n",
              "    </tr>\n",
              "    <tr>\n",
              "      <th>1</th>\n",
              "      <td>60</td>\n",
              "      <td>30</td>\n",
              "      <td>19.89</td>\n",
              "      <td>46.693333</td>\n",
              "      <td>19.2</td>\n",
              "      <td>44.722500</td>\n",
              "      <td>19.79</td>\n",
              "      <td>44.790000</td>\n",
              "      <td>19.000000</td>\n",
              "      <td>45.992500</td>\n",
              "      <td>17.166667</td>\n",
              "      <td>55.20</td>\n",
              "      <td>6.833333</td>\n",
              "      <td>84.063333</td>\n",
              "      <td>17.200000</td>\n",
              "      <td>41.560000</td>\n",
              "      <td>18.2</td>\n",
              "      <td>48.863333</td>\n",
              "      <td>17.066667</td>\n",
              "      <td>45.56</td>\n",
              "      <td>6.483333</td>\n",
              "      <td>733.6</td>\n",
              "      <td>92.0</td>\n",
              "      <td>6.666667</td>\n",
              "      <td>59.166667</td>\n",
              "      <td>5.2</td>\n",
              "      <td>18.606195</td>\n",
              "      <td>18.606195</td>\n",
              "    </tr>\n",
              "    <tr>\n",
              "      <th>2</th>\n",
              "      <td>50</td>\n",
              "      <td>30</td>\n",
              "      <td>19.89</td>\n",
              "      <td>46.300000</td>\n",
              "      <td>19.2</td>\n",
              "      <td>44.626667</td>\n",
              "      <td>19.79</td>\n",
              "      <td>44.933333</td>\n",
              "      <td>18.926667</td>\n",
              "      <td>45.890000</td>\n",
              "      <td>17.166667</td>\n",
              "      <td>55.09</td>\n",
              "      <td>6.560000</td>\n",
              "      <td>83.156667</td>\n",
              "      <td>17.200000</td>\n",
              "      <td>41.433333</td>\n",
              "      <td>18.2</td>\n",
              "      <td>48.730000</td>\n",
              "      <td>17.000000</td>\n",
              "      <td>45.50</td>\n",
              "      <td>6.366667</td>\n",
              "      <td>733.7</td>\n",
              "      <td>92.0</td>\n",
              "      <td>6.333333</td>\n",
              "      <td>55.333333</td>\n",
              "      <td>5.1</td>\n",
              "      <td>28.642668</td>\n",
              "      <td>28.642668</td>\n",
              "    </tr>\n",
              "    <tr>\n",
              "      <th>3</th>\n",
              "      <td>50</td>\n",
              "      <td>40</td>\n",
              "      <td>19.89</td>\n",
              "      <td>46.066667</td>\n",
              "      <td>19.2</td>\n",
              "      <td>44.590000</td>\n",
              "      <td>19.79</td>\n",
              "      <td>45.000000</td>\n",
              "      <td>18.890000</td>\n",
              "      <td>45.723333</td>\n",
              "      <td>17.166667</td>\n",
              "      <td>55.09</td>\n",
              "      <td>6.433333</td>\n",
              "      <td>83.423333</td>\n",
              "      <td>17.133333</td>\n",
              "      <td>41.290000</td>\n",
              "      <td>18.1</td>\n",
              "      <td>48.590000</td>\n",
              "      <td>17.000000</td>\n",
              "      <td>45.40</td>\n",
              "      <td>6.250000</td>\n",
              "      <td>733.8</td>\n",
              "      <td>92.0</td>\n",
              "      <td>6.000000</td>\n",
              "      <td>51.500000</td>\n",
              "      <td>5.0</td>\n",
              "      <td>45.410389</td>\n",
              "      <td>45.410389</td>\n",
              "    </tr>\n",
              "    <tr>\n",
              "      <th>4</th>\n",
              "      <td>60</td>\n",
              "      <td>40</td>\n",
              "      <td>19.89</td>\n",
              "      <td>46.333333</td>\n",
              "      <td>19.2</td>\n",
              "      <td>44.530000</td>\n",
              "      <td>19.79</td>\n",
              "      <td>45.000000</td>\n",
              "      <td>18.890000</td>\n",
              "      <td>45.530000</td>\n",
              "      <td>17.200000</td>\n",
              "      <td>55.09</td>\n",
              "      <td>6.366667</td>\n",
              "      <td>84.893333</td>\n",
              "      <td>17.200000</td>\n",
              "      <td>41.230000</td>\n",
              "      <td>18.1</td>\n",
              "      <td>48.590000</td>\n",
              "      <td>17.000000</td>\n",
              "      <td>45.40</td>\n",
              "      <td>6.133333</td>\n",
              "      <td>733.9</td>\n",
              "      <td>92.0</td>\n",
              "      <td>5.666667</td>\n",
              "      <td>47.666667</td>\n",
              "      <td>4.9</td>\n",
              "      <td>10.084097</td>\n",
              "      <td>10.084097</td>\n",
              "    </tr>\n",
              "  </tbody>\n",
              "</table>\n",
              "</div>"
            ],
            "text/plain": [
              "   Appliances  lights     T1  ...  Tdewpoint        rv1        rv2\n",
              "0          60      30  19.89  ...        5.3  13.275433  13.275433\n",
              "1          60      30  19.89  ...        5.2  18.606195  18.606195\n",
              "2          50      30  19.89  ...        5.1  28.642668  28.642668\n",
              "3          50      40  19.89  ...        5.0  45.410389  45.410389\n",
              "4          60      40  19.89  ...        4.9  10.084097  10.084097\n",
              "\n",
              "[5 rows x 28 columns]"
            ]
          },
          "metadata": {
            "tags": []
          },
          "execution_count": 46
        }
      ]
    },
    {
      "cell_type": "code",
      "metadata": {
        "id": "vm1X4jPl4jQ9",
        "colab_type": "code",
        "colab": {
          "base_uri": "https://localhost:8080/",
          "height": 331
        },
        "outputId": "46f60198-9b12-48f2-b1ce-f34aca60b99a"
      },
      "source": [
        "corr=my_data.corr()\n",
        "import seaborn as sns\n",
        "sns.heatmap(corr)"
      ],
      "execution_count": 47,
      "outputs": [
        {
          "output_type": "execute_result",
          "data": {
            "text/plain": [
              "<matplotlib.axes._subplots.AxesSubplot at 0x7f310ef4c748>"
            ]
          },
          "metadata": {
            "tags": []
          },
          "execution_count": 47
        },
        {
          "output_type": "display_data",
          "data": {
            "image/png": "[encoded data removed]",
            "text/plain": [
              "<Figure size 432x288 with 2 Axes>"
            ]
          },
          "metadata": {
            "tags": [],
            "needs_background": "light"
          }
        }
      ]
    },
    {
      "cell_type": "code",
      "metadata": {
        "id": "Xh8E4DwKwpiT",
        "colab_type": "code",
        "colab": {
          "base_uri": "https://localhost:8080/",
          "height": 224
        },
        "outputId": "26fae7b9-c3db-408d-f1c9-f77ccedabfa8"
      },
      "source": [
        "X=my_data.iloc[:,1:]\n",
        "Y=my_data.iloc[:,0]\n",
        "X = (X - X.min())/(X.max() - X.min())\n",
        "X.head()"
      ],
      "execution_count": 48,
      "outputs": [
        {
          "output_type": "execute_result",
          "data": {
            "text/html": [
              "<div>\n",
              "<style scoped>\n",
              "    .dataframe tbody tr th:only-of-type {\n",
              "        vertical-align: middle;\n",
              "    }\n",
              "\n",
              "    .dataframe tbody tr th {\n",
              "        vertical-align: top;\n",
              "    }\n",
              "\n",
              "    .dataframe thead th {\n",
              "        text-align: right;\n",
              "    }\n",
              "</style>\n",
              "<table border=\"1\" class=\"dataframe\">\n",
              "  <thead>\n",
              "    <tr style=\"text-align: right;\">\n",
              "      <th></th>\n",
              "      <th>lights</th>\n",
              "      <th>T1</th>\n",
              "      <th>RH_1</th>\n",
              "      <th>T2</th>\n",
              "      <th>RH_2</th>\n",
              "      <th>T3</th>\n",
              "      <th>RH_3</th>\n",
              "      <th>T4</th>\n",
              "      <th>RH_4</th>\n",
              "      <th>T5</th>\n",
              "      <th>RH_5</th>\n",
              "      <th>T6</th>\n",
              "      <th>RH_6</th>\n",
              "      <th>T7</th>\n",
              "      <th>RH_7</th>\n",
              "      <th>T8</th>\n",
              "      <th>RH_8</th>\n",
              "      <th>T9</th>\n",
              "      <th>RH_9</th>\n",
              "      <th>T_out</th>\n",
              "      <th>Press_mm_hg</th>\n",
              "      <th>RH_out</th>\n",
              "      <th>Windspeed</th>\n",
              "      <th>Visibility</th>\n",
              "      <th>Tdewpoint</th>\n",
              "      <th>rv1</th>\n",
              "      <th>rv2</th>\n",
              "    </tr>\n",
              "  </thead>\n",
              "  <tbody>\n",
              "    <tr>\n",
              "      <th>0</th>\n",
              "      <td>0.428571</td>\n",
              "      <td>0.32735</td>\n",
              "      <td>0.566187</td>\n",
              "      <td>0.225345</td>\n",
              "      <td>0.684038</td>\n",
              "      <td>0.215188</td>\n",
              "      <td>0.746066</td>\n",
              "      <td>0.351351</td>\n",
              "      <td>0.764262</td>\n",
              "      <td>0.175506</td>\n",
              "      <td>0.381691</td>\n",
              "      <td>0.381070</td>\n",
              "      <td>0.841827</td>\n",
              "      <td>0.170594</td>\n",
              "      <td>0.653428</td>\n",
              "      <td>0.173329</td>\n",
              "      <td>0.661412</td>\n",
              "      <td>0.223032</td>\n",
              "      <td>0.677290</td>\n",
              "      <td>0.372990</td>\n",
              "      <td>0.097674</td>\n",
              "      <td>0.894737</td>\n",
              "      <td>0.500000</td>\n",
              "      <td>0.953846</td>\n",
              "      <td>0.538462</td>\n",
              "      <td>0.265449</td>\n",
              "      <td>0.265449</td>\n",
              "    </tr>\n",
              "    <tr>\n",
              "      <th>1</th>\n",
              "      <td>0.428571</td>\n",
              "      <td>0.32735</td>\n",
              "      <td>0.541326</td>\n",
              "      <td>0.225345</td>\n",
              "      <td>0.682140</td>\n",
              "      <td>0.215188</td>\n",
              "      <td>0.748871</td>\n",
              "      <td>0.351351</td>\n",
              "      <td>0.782437</td>\n",
              "      <td>0.175506</td>\n",
              "      <td>0.381691</td>\n",
              "      <td>0.375443</td>\n",
              "      <td>0.839872</td>\n",
              "      <td>0.170594</td>\n",
              "      <td>0.651064</td>\n",
              "      <td>0.173329</td>\n",
              "      <td>0.660155</td>\n",
              "      <td>0.226500</td>\n",
              "      <td>0.678532</td>\n",
              "      <td>0.369239</td>\n",
              "      <td>0.100000</td>\n",
              "      <td>0.894737</td>\n",
              "      <td>0.476190</td>\n",
              "      <td>0.894872</td>\n",
              "      <td>0.533937</td>\n",
              "      <td>0.372083</td>\n",
              "      <td>0.372083</td>\n",
              "    </tr>\n",
              "    <tr>\n",
              "      <th>2</th>\n",
              "      <td>0.428571</td>\n",
              "      <td>0.32735</td>\n",
              "      <td>0.530502</td>\n",
              "      <td>0.225345</td>\n",
              "      <td>0.679445</td>\n",
              "      <td>0.215188</td>\n",
              "      <td>0.755569</td>\n",
              "      <td>0.344745</td>\n",
              "      <td>0.778062</td>\n",
              "      <td>0.175506</td>\n",
              "      <td>0.380037</td>\n",
              "      <td>0.367487</td>\n",
              "      <td>0.830704</td>\n",
              "      <td>0.170594</td>\n",
              "      <td>0.646572</td>\n",
              "      <td>0.173329</td>\n",
              "      <td>0.655586</td>\n",
              "      <td>0.219563</td>\n",
              "      <td>0.676049</td>\n",
              "      <td>0.365488</td>\n",
              "      <td>0.102326</td>\n",
              "      <td>0.894737</td>\n",
              "      <td>0.452381</td>\n",
              "      <td>0.835897</td>\n",
              "      <td>0.529412</td>\n",
              "      <td>0.572848</td>\n",
              "      <td>0.572848</td>\n",
              "    </tr>\n",
              "    <tr>\n",
              "      <th>3</th>\n",
              "      <td>0.571429</td>\n",
              "      <td>0.32735</td>\n",
              "      <td>0.524080</td>\n",
              "      <td>0.225345</td>\n",
              "      <td>0.678414</td>\n",
              "      <td>0.215188</td>\n",
              "      <td>0.758685</td>\n",
              "      <td>0.341441</td>\n",
              "      <td>0.770949</td>\n",
              "      <td>0.175506</td>\n",
              "      <td>0.380037</td>\n",
              "      <td>0.363800</td>\n",
              "      <td>0.833401</td>\n",
              "      <td>0.164310</td>\n",
              "      <td>0.641489</td>\n",
              "      <td>0.164175</td>\n",
              "      <td>0.650788</td>\n",
              "      <td>0.219563</td>\n",
              "      <td>0.671909</td>\n",
              "      <td>0.361736</td>\n",
              "      <td>0.104651</td>\n",
              "      <td>0.894737</td>\n",
              "      <td>0.428571</td>\n",
              "      <td>0.776923</td>\n",
              "      <td>0.524887</td>\n",
              "      <td>0.908261</td>\n",
              "      <td>0.908261</td>\n",
              "    </tr>\n",
              "    <tr>\n",
              "      <th>4</th>\n",
              "      <td>0.571429</td>\n",
              "      <td>0.32735</td>\n",
              "      <td>0.531419</td>\n",
              "      <td>0.225345</td>\n",
              "      <td>0.676727</td>\n",
              "      <td>0.215188</td>\n",
              "      <td>0.758685</td>\n",
              "      <td>0.341441</td>\n",
              "      <td>0.762697</td>\n",
              "      <td>0.178691</td>\n",
              "      <td>0.380037</td>\n",
              "      <td>0.361859</td>\n",
              "      <td>0.848264</td>\n",
              "      <td>0.170594</td>\n",
              "      <td>0.639362</td>\n",
              "      <td>0.164175</td>\n",
              "      <td>0.650788</td>\n",
              "      <td>0.219563</td>\n",
              "      <td>0.671909</td>\n",
              "      <td>0.357985</td>\n",
              "      <td>0.106977</td>\n",
              "      <td>0.894737</td>\n",
              "      <td>0.404762</td>\n",
              "      <td>0.717949</td>\n",
              "      <td>0.520362</td>\n",
              "      <td>0.201611</td>\n",
              "      <td>0.201611</td>\n",
              "    </tr>\n",
              "  </tbody>\n",
              "</table>\n",
              "</div>"
            ],
            "text/plain": [
              "     lights       T1      RH_1  ...  Tdewpoint       rv1       rv2\n",
              "0  0.428571  0.32735  0.566187  ...   0.538462  0.265449  0.265449\n",
              "1  0.428571  0.32735  0.541326  ...   0.533937  0.372083  0.372083\n",
              "2  0.428571  0.32735  0.530502  ...   0.529412  0.572848  0.572848\n",
              "3  0.571429  0.32735  0.524080  ...   0.524887  0.908261  0.908261\n",
              "4  0.571429  0.32735  0.531419  ...   0.520362  0.201611  0.201611\n",
              "\n",
              "[5 rows x 27 columns]"
            ]
          },
          "metadata": {
            "tags": []
          },
          "execution_count": 48
        }
      ]
    },
    {
      "cell_type": "code",
      "metadata": {
        "id": "ZQFs-SBwxHzW",
        "colab_type": "code",
        "colab": {
          "base_uri": "https://localhost:8080/",
          "height": 241
        },
        "outputId": "3245b57a-397c-4c4a-d654-d0498b2deabc"
      },
      "source": [
        "from sklearn.model_selection import train_test_split\n",
        "x_train,x_test,y_train,y_test = train_test_split(X, Y, test_size = 0.25, random_state=42)\n",
        "print(x_train.shape,y_train.shape)\n",
        "x_train.head()"
      ],
      "execution_count": 49,
      "outputs": [
        {
          "output_type": "stream",
          "text": [
            "(14801, 27) (14801,)\n"
          ],
          "name": "stdout"
        },
        {
          "output_type": "execute_result",
          "data": {
            "text/html": [
              "<div>\n",
              "<style scoped>\n",
              "    .dataframe tbody tr th:only-of-type {\n",
              "        vertical-align: middle;\n",
              "    }\n",
              "\n",
              "    .dataframe tbody tr th {\n",
              "        vertical-align: top;\n",
              "    }\n",
              "\n",
              "    .dataframe thead th {\n",
              "        text-align: right;\n",
              "    }\n",
              "</style>\n",
              "<table border=\"1\" class=\"dataframe\">\n",
              "  <thead>\n",
              "    <tr style=\"text-align: right;\">\n",
              "      <th></th>\n",
              "      <th>lights</th>\n",
              "      <th>T1</th>\n",
              "      <th>RH_1</th>\n",
              "      <th>T2</th>\n",
              "      <th>RH_2</th>\n",
              "      <th>T3</th>\n",
              "      <th>RH_3</th>\n",
              "      <th>T4</th>\n",
              "      <th>RH_4</th>\n",
              "      <th>T5</th>\n",
              "      <th>RH_5</th>\n",
              "      <th>T6</th>\n",
              "      <th>RH_6</th>\n",
              "      <th>T7</th>\n",
              "      <th>RH_7</th>\n",
              "      <th>T8</th>\n",
              "      <th>RH_8</th>\n",
              "      <th>T9</th>\n",
              "      <th>RH_9</th>\n",
              "      <th>T_out</th>\n",
              "      <th>Press_mm_hg</th>\n",
              "      <th>RH_out</th>\n",
              "      <th>Windspeed</th>\n",
              "      <th>Visibility</th>\n",
              "      <th>Tdewpoint</th>\n",
              "      <th>rv1</th>\n",
              "      <th>rv2</th>\n",
              "    </tr>\n",
              "  </thead>\n",
              "  <tbody>\n",
              "    <tr>\n",
              "      <th>8242</th>\n",
              "      <td>0.0</td>\n",
              "      <td>0.444562</td>\n",
              "      <td>0.306577</td>\n",
              "      <td>0.174461</td>\n",
              "      <td>0.558534</td>\n",
              "      <td>0.251745</td>\n",
              "      <td>0.431531</td>\n",
              "      <td>0.434835</td>\n",
              "      <td>0.293072</td>\n",
              "      <td>0.324892</td>\n",
              "      <td>0.225316</td>\n",
              "      <td>0.322078</td>\n",
              "      <td>0.777856</td>\n",
              "      <td>0.276469</td>\n",
              "      <td>0.316548</td>\n",
              "      <td>0.419591</td>\n",
              "      <td>0.306717</td>\n",
              "      <td>0.271592</td>\n",
              "      <td>0.304912</td>\n",
              "      <td>0.309753</td>\n",
              "      <td>0.598450</td>\n",
              "      <td>0.675439</td>\n",
              "      <td>0.333333</td>\n",
              "      <td>0.600000</td>\n",
              "      <td>0.325792</td>\n",
              "      <td>0.129026</td>\n",
              "      <td>0.129026</td>\n",
              "    </tr>\n",
              "    <tr>\n",
              "      <th>10603</th>\n",
              "      <td>0.0</td>\n",
              "      <td>0.444562</td>\n",
              "      <td>0.369507</td>\n",
              "      <td>0.166465</td>\n",
              "      <td>0.664355</td>\n",
              "      <td>0.398804</td>\n",
              "      <td>0.445085</td>\n",
              "      <td>0.428529</td>\n",
              "      <td>0.478162</td>\n",
              "      <td>0.381589</td>\n",
              "      <td>0.296436</td>\n",
              "      <td>0.371271</td>\n",
              "      <td>0.736097</td>\n",
              "      <td>0.456173</td>\n",
              "      <td>0.548109</td>\n",
              "      <td>0.501984</td>\n",
              "      <td>0.477268</td>\n",
              "      <td>0.479709</td>\n",
              "      <td>0.579332</td>\n",
              "      <td>0.367095</td>\n",
              "      <td>0.561240</td>\n",
              "      <td>0.960526</td>\n",
              "      <td>0.428571</td>\n",
              "      <td>0.766667</td>\n",
              "      <td>0.566365</td>\n",
              "      <td>0.135863</td>\n",
              "      <td>0.135863</td>\n",
              "    </tr>\n",
              "    <tr>\n",
              "      <th>18910</th>\n",
              "      <td>0.0</td>\n",
              "      <td>0.834213</td>\n",
              "      <td>0.617907</td>\n",
              "      <td>0.598236</td>\n",
              "      <td>0.750652</td>\n",
              "      <td>0.800432</td>\n",
              "      <td>0.704471</td>\n",
              "      <td>0.801558</td>\n",
              "      <td>0.821227</td>\n",
              "      <td>0.725946</td>\n",
              "      <td>0.342246</td>\n",
              "      <td>0.828397</td>\n",
              "      <td>0.210061</td>\n",
              "      <td>0.800800</td>\n",
              "      <td>0.733261</td>\n",
              "      <td>0.742386</td>\n",
              "      <td>0.740918</td>\n",
              "      <td>0.862227</td>\n",
              "      <td>0.796082</td>\n",
              "      <td>0.722401</td>\n",
              "      <td>0.517054</td>\n",
              "      <td>0.767544</td>\n",
              "      <td>0.142857</td>\n",
              "      <td>0.600000</td>\n",
              "      <td>0.951735</td>\n",
              "      <td>0.170407</td>\n",
              "      <td>0.170407</td>\n",
              "    </tr>\n",
              "    <tr>\n",
              "      <th>16772</th>\n",
              "      <td>0.0</td>\n",
              "      <td>0.739176</td>\n",
              "      <td>0.294652</td>\n",
              "      <td>0.402229</td>\n",
              "      <td>0.523104</td>\n",
              "      <td>0.606514</td>\n",
              "      <td>0.437451</td>\n",
              "      <td>0.765766</td>\n",
              "      <td>0.384265</td>\n",
              "      <td>0.551362</td>\n",
              "      <td>0.275336</td>\n",
              "      <td>0.485831</td>\n",
              "      <td>0.226896</td>\n",
              "      <td>0.697455</td>\n",
              "      <td>0.386170</td>\n",
              "      <td>0.676839</td>\n",
              "      <td>0.466073</td>\n",
              "      <td>0.718002</td>\n",
              "      <td>0.584575</td>\n",
              "      <td>0.547696</td>\n",
              "      <td>0.528682</td>\n",
              "      <td>0.535088</td>\n",
              "      <td>0.071429</td>\n",
              "      <td>0.600000</td>\n",
              "      <td>0.546003</td>\n",
              "      <td>0.503939</td>\n",
              "      <td>0.503939</td>\n",
              "    </tr>\n",
              "    <tr>\n",
              "      <th>16805</th>\n",
              "      <td>0.0</td>\n",
              "      <td>0.739176</td>\n",
              "      <td>0.338593</td>\n",
              "      <td>0.877974</td>\n",
              "      <td>0.306852</td>\n",
              "      <td>0.656364</td>\n",
              "      <td>0.398349</td>\n",
              "      <td>0.765766</td>\n",
              "      <td>0.419974</td>\n",
              "      <td>0.703615</td>\n",
              "      <td>0.785109</td>\n",
              "      <td>0.867268</td>\n",
              "      <td>0.000000</td>\n",
              "      <td>0.697455</td>\n",
              "      <td>0.414805</td>\n",
              "      <td>0.667684</td>\n",
              "      <td>0.437400</td>\n",
              "      <td>0.760666</td>\n",
              "      <td>0.562638</td>\n",
              "      <td>0.769561</td>\n",
              "      <td>0.538760</td>\n",
              "      <td>0.370614</td>\n",
              "      <td>0.214286</td>\n",
              "      <td>0.600000</td>\n",
              "      <td>0.699095</td>\n",
              "      <td>0.460764</td>\n",
              "      <td>0.460764</td>\n",
              "    </tr>\n",
              "  </tbody>\n",
              "</table>\n",
              "</div>"
            ],
            "text/plain": [
              "       lights        T1      RH_1  ...  Tdewpoint       rv1       rv2\n",
              "8242      0.0  0.444562  0.306577  ...   0.325792  0.129026  0.129026\n",
              "10603     0.0  0.444562  0.369507  ...   0.566365  0.135863  0.135863\n",
              "18910     0.0  0.834213  0.617907  ...   0.951735  0.170407  0.170407\n",
              "16772     0.0  0.739176  0.294652  ...   0.546003  0.503939  0.503939\n",
              "16805     0.0  0.739176  0.338593  ...   0.699095  0.460764  0.460764\n",
              "\n",
              "[5 rows x 27 columns]"
            ]
          },
          "metadata": {
            "tags": []
          },
          "execution_count": 49
        }
      ]
    },
    {
      "cell_type": "code",
      "metadata": {
        "id": "iNfq8VsU9Qos",
        "colab_type": "code",
        "colab": {
          "base_uri": "https://localhost:8080/",
          "height": 119
        },
        "outputId": "7daf1bd9-4454-4764-a665-34d306ae356c"
      },
      "source": [
        "y_train.head()"
      ],
      "execution_count": 158,
      "outputs": [
        {
          "output_type": "execute_result",
          "data": {
            "text/plain": [
              "8242      40\n",
              "10603     40\n",
              "18910     60\n",
              "16772     40\n",
              "16805    100\n",
              "Name: Appliances, dtype: int64"
            ]
          },
          "metadata": {
            "tags": []
          },
          "execution_count": 158
        }
      ]
    },
    {
      "cell_type": "code",
      "metadata": {
        "id": "0h9thO1Q4-rp",
        "colab_type": "code",
        "colab": {}
      },
      "source": [
        "class LR(nn.Module):\n",
        "    def __init__(self,inputsize,outputsize):\n",
        "        super().__init__()\n",
        "        self.linear1 = nn.Linear(inputsize,100)\n",
        "        self.linear2 = nn.Linear(100,70)\n",
        "        self.linear3 = nn.Linear(70,50)\n",
        "        self.linear4 = nn.Linear(50,30)\n",
        "        self.linear5 = nn.Linear(30,15)\n",
        "        self.linear6 = nn.Linear(15,outputsize)\n",
        "\n",
        "    def forward(self, x):\n",
        "        x = torch.relu(self.linear1(x))\n",
        "        x = torch.relu(self.linear2(x))\n",
        "        x = torch.relu(self.linear3(x))\n",
        "        x = torch.relu(self.linear4(x))\n",
        "        x = torch.relu(self.linear5(x))\n",
        "        x =  self.linear6(x)\n",
        "        return  x"
      ],
      "execution_count": 169,
      "outputs": []
    },
    {
      "cell_type": "code",
      "metadata": {
        "id": "LB63faE7qUQL",
        "colab_type": "code",
        "colab": {}
      },
      "source": [
        "torch.manual_seed(2)\n",
        "model = LR(27, 1)\n",
        "#print(list(model.parameters()))\n",
        "loss_function = torch.nn.MSELoss()\n",
        "optimizer = torch.optim.Adam(model.parameters(),lr=0.01)\n",
        "losses = []"
      ],
      "execution_count": 170,
      "outputs": []
    },
    {
      "cell_type": "code",
      "metadata": {
        "id": "STukrpJxsFh4",
        "colab_type": "code",
        "colab": {
          "base_uri": "https://localhost:8080/",
          "height": 867
        },
        "outputId": "dbfa42cb-5b1b-4b57-bf65-b255a7d35653"
      },
      "source": [
        "from statistics import mean \n",
        "x_train_tensor = torch.tensor(x_train.values).float()\n",
        "y_train_tensor = torch.tensor(y_train.values).float()\n",
        "x_test_tensor = torch.tensor(x_test.values).float()\n",
        "y_test_tensor = torch.tensor(y_test.values).float()\n",
        "epochs = 5000\n",
        "for i in range(epochs):\n",
        "    y_pred = model.forward(Variable(x_train_tensor)).squeeze()\n",
        "    loss = loss_function(y_pred,Variable(y_train_tensor))\n",
        "    #print('epoch:',i)\n",
        "    losses.append(loss.item())\n",
        "    optimizer.zero_grad()\n",
        "    loss.backward()\n",
        "    optimizer.step()\n",
        "    if i%100 == 0:\n",
        "        print('epoch:',  i, loss)"
      ],
      "execution_count": 171,
      "outputs": [
        {
          "output_type": "stream",
          "text": [
            "epoch: 0 tensor(20292.9805, grad_fn=<MseLossBackward>)\n",
            "epoch: 100 tensor(9886.7656, grad_fn=<MseLossBackward>)\n",
            "epoch: 200 tensor(8941.0234, grad_fn=<MseLossBackward>)\n",
            "epoch: 300 tensor(8404.7568, grad_fn=<MseLossBackward>)\n",
            "epoch: 400 tensor(7916.9009, grad_fn=<MseLossBackward>)\n",
            "epoch: 500 tensor(7573.1191, grad_fn=<MseLossBackward>)\n",
            "epoch: 600 tensor(7948.4438, grad_fn=<MseLossBackward>)\n",
            "epoch: 700 tensor(6953.2217, grad_fn=<MseLossBackward>)\n",
            "epoch: 800 tensor(8069.9878, grad_fn=<MseLossBackward>)\n",
            "epoch: 900 tensor(7248.7495, grad_fn=<MseLossBackward>)\n",
            "epoch: 1000 tensor(6314.7153, grad_fn=<MseLossBackward>)\n",
            "epoch: 1100 tensor(7963.2129, grad_fn=<MseLossBackward>)\n",
            "epoch: 1200 tensor(6244.7695, grad_fn=<MseLossBackward>)\n",
            "epoch: 1300 tensor(5918.5312, grad_fn=<MseLossBackward>)\n",
            "epoch: 1400 tensor(8487.5020, grad_fn=<MseLossBackward>)\n",
            "epoch: 1500 tensor(7602.7402, grad_fn=<MseLossBackward>)\n",
            "epoch: 1600 tensor(7114.8154, grad_fn=<MseLossBackward>)\n",
            "epoch: 1700 tensor(6824.4814, grad_fn=<MseLossBackward>)\n",
            "epoch: 1800 tensor(6532.4639, grad_fn=<MseLossBackward>)\n",
            "epoch: 1900 tensor(6306.5137, grad_fn=<MseLossBackward>)\n",
            "epoch: 2000 tensor(6228.0332, grad_fn=<MseLossBackward>)\n",
            "epoch: 2100 tensor(9119.6172, grad_fn=<MseLossBackward>)\n",
            "epoch: 2200 tensor(8309.1914, grad_fn=<MseLossBackward>)\n",
            "epoch: 2300 tensor(7976.4077, grad_fn=<MseLossBackward>)\n",
            "epoch: 2400 tensor(7668.0498, grad_fn=<MseLossBackward>)\n",
            "epoch: 2500 tensor(7517.3286, grad_fn=<MseLossBackward>)\n",
            "epoch: 2600 tensor(7228.5444, grad_fn=<MseLossBackward>)\n",
            "epoch: 2700 tensor(7103.1260, grad_fn=<MseLossBackward>)\n",
            "epoch: 2800 tensor(6901.1328, grad_fn=<MseLossBackward>)\n",
            "epoch: 2900 tensor(6914.5317, grad_fn=<MseLossBackward>)\n",
            "epoch: 3000 tensor(6667.8345, grad_fn=<MseLossBackward>)\n",
            "epoch: 3100 tensor(6564.1777, grad_fn=<MseLossBackward>)\n",
            "epoch: 3200 tensor(6431.9346, grad_fn=<MseLossBackward>)\n",
            "epoch: 3300 tensor(6500.5439, grad_fn=<MseLossBackward>)\n",
            "epoch: 3400 tensor(6264.0591, grad_fn=<MseLossBackward>)\n",
            "epoch: 3500 tensor(6138.2529, grad_fn=<MseLossBackward>)\n",
            "epoch: 3600 tensor(6113.4258, grad_fn=<MseLossBackward>)\n",
            "epoch: 3700 tensor(5973.5977, grad_fn=<MseLossBackward>)\n",
            "epoch: 3800 tensor(6044.4126, grad_fn=<MseLossBackward>)\n",
            "epoch: 3900 tensor(5787.8862, grad_fn=<MseLossBackward>)\n",
            "epoch: 4000 tensor(5792.8408, grad_fn=<MseLossBackward>)\n",
            "epoch: 4100 tensor(5666.6016, grad_fn=<MseLossBackward>)\n",
            "epoch: 4200 tensor(5885.0806, grad_fn=<MseLossBackward>)\n",
            "epoch: 4300 tensor(5896.4614, grad_fn=<MseLossBackward>)\n",
            "epoch: 4400 tensor(5686.1606, grad_fn=<MseLossBackward>)\n",
            "epoch: 4500 tensor(5968.4263, grad_fn=<MseLossBackward>)\n",
            "epoch: 4600 tensor(5927.6479, grad_fn=<MseLossBackward>)\n",
            "epoch: 4700 tensor(5453.1416, grad_fn=<MseLossBackward>)\n",
            "epoch: 4800 tensor(5426.5703, grad_fn=<MseLossBackward>)\n",
            "epoch: 4900 tensor(6515.7397, grad_fn=<MseLossBackward>)\n"
          ],
          "name": "stdout"
        }
      ]
    },
    {
      "cell_type": "code",
      "metadata": {
        "id": "JCYc2A8BC7mc",
        "colab_type": "code",
        "colab": {
          "base_uri": "https://localhost:8080/",
          "height": 296
        },
        "outputId": "e0a1d740-57e7-4850-ceb5-653a02bb0e73"
      },
      "source": [
        "plt.plot(range(epochs), losses)\n",
        "plt.ylabel('Loss with fast learning')\n",
        "plt.xlabel('epoch')\n"
      ],
      "execution_count": 172,
      "outputs": [
        {
          "output_type": "execute_result",
          "data": {
            "text/plain": [
              "Text(0.5, 0, 'epoch')"
            ]
          },
          "metadata": {
            "tags": []
          },
          "execution_count": 172
        },
        {
          "output_type": "display_data",
          "data": {
            "image/png": "[encoded data removed]",
            "text/plain": [
              "<Figure size 432x288 with 1 Axes>"
            ]
          },
          "metadata": {
            "tags": [],
            "needs_background": "light"
          }
        }
      ]
    },
    {
      "cell_type": "code",
      "metadata": {
        "id": "lmrS6_t-UEyY",
        "colab_type": "code",
        "colab": {
          "base_uri": "https://localhost:8080/",
          "height": 85
        },
        "outputId": "9143224e-1a6a-4c32-8f4b-c8ef1a998899"
      },
      "source": [
        "with torch.no_grad():\n",
        "  pred=model(Variable(x_test_tensor[5]))\n",
        "  print(\"Ground truth:\", y_test_tensor[5], \"Prediction:\", pred.item())\n",
        "  pred=model(Variable(x_test_tensor[10]))\n",
        "  print(\"Ground truth:\", y_test_tensor[10], \"Prediction:\", pred.item())\n",
        "\n",
        "with torch.no_grad():\n",
        "  predicted = model(Variable(x_train_tensor))\n",
        "\n",
        "from sklearn.metrics import mean_squared_error\n",
        "\n",
        "rmse = np.sqrt(mean_squared_error(y_train,predicted))\n",
        "print(\"Root Mean Squared Error Training Data : {}\".format(rmse))\n",
        "\n",
        "with torch.no_grad():\n",
        "  predicted = model(Variable(x_test_tensor))\n",
        "\n",
        "from sklearn.metrics import mean_squared_error\n",
        "\n",
        "rmse = np.sqrt(mean_squared_error(y_test,predicted))\n",
        "print(\"Root Mean Squared Error Test Data : {}\".format(rmse))\n"
      ],
      "execution_count": 173,
      "outputs": [
        {
          "output_type": "stream",
          "text": [
            "Ground truth: tensor(120.) Prediction: 145.18458557128906\n",
            "Ground truth: tensor(110.) Prediction: 191.8661651611328\n",
            "Root Mean Squared Error Training Data : 72.85702228287839\n",
            "Root Mean Squared Error Test Data : 87.63972360572568\n"
          ],
          "name": "stdout"
        }
      ]
    },
    {
      "cell_type": "code",
      "metadata": {
        "id": "8qBRN1nkTzg0",
        "colab_type": "code",
        "colab": {}
      },
      "source": [
        "torch.manual_seed(2)\n",
        "model = LR(27, 1)\n",
        "#print(list(model.parameters()))\n",
        "loss_function = torch.nn.MSELoss()\n",
        "optimizer = torch.optim.Adam(model.parameters(),lr=0.001)\n",
        "losses = []"
      ],
      "execution_count": 174,
      "outputs": []
    },
    {
      "cell_type": "code",
      "metadata": {
        "id": "scbpSZ-VTzwq",
        "colab_type": "code",
        "colab": {
          "base_uri": "https://localhost:8080/",
          "height": 1000
        },
        "outputId": "5a0335cc-1dd0-4dea-9bb0-0f048644c194"
      },
      "source": [
        "from statistics import mean \n",
        "x_train_tensor = torch.tensor(x_train.values).float()\n",
        "y_train_tensor = torch.tensor(y_train.values).float()\n",
        "x_test_tensor = torch.tensor(x_test.values).float()\n",
        "y_test_tensor = torch.tensor(y_test.values).float()\n",
        "epochs = 10000\n",
        "for i in range(epochs):\n",
        "    y_pred = model.forward(Variable(x_train_tensor)).squeeze()\n",
        "    loss = loss_function(y_pred,Variable(y_train_tensor))\n",
        "    #print('epoch:',i)\n",
        "    losses.append(loss.item())\n",
        "    optimizer.zero_grad()\n",
        "    loss.backward()\n",
        "    optimizer.step()\n",
        "    if i%100 == 0:\n",
        "        print('epoch:',  i, loss)"
      ],
      "execution_count": 175,
      "outputs": [
        {
          "output_type": "stream",
          "text": [
            "epoch: 0 tensor(20292.9805, grad_fn=<MseLossBackward>)\n",
            "epoch: 100 tensor(10806.6709, grad_fn=<MseLossBackward>)\n",
            "epoch: 200 tensor(10572.0479, grad_fn=<MseLossBackward>)\n",
            "epoch: 300 tensor(10205.5420, grad_fn=<MseLossBackward>)\n",
            "epoch: 400 tensor(9684.4385, grad_fn=<MseLossBackward>)\n",
            "epoch: 500 tensor(9349.1670, grad_fn=<MseLossBackward>)\n",
            "epoch: 600 tensor(9057.0547, grad_fn=<MseLossBackward>)\n",
            "epoch: 700 tensor(8732.3906, grad_fn=<MseLossBackward>)\n",
            "epoch: 800 tensor(8438.4297, grad_fn=<MseLossBackward>)\n",
            "epoch: 900 tensor(8182.0483, grad_fn=<MseLossBackward>)\n",
            "epoch: 1000 tensor(7963.0020, grad_fn=<MseLossBackward>)\n",
            "epoch: 1100 tensor(7761.2905, grad_fn=<MseLossBackward>)\n",
            "epoch: 1200 tensor(7572.7441, grad_fn=<MseLossBackward>)\n",
            "epoch: 1300 tensor(7352.5083, grad_fn=<MseLossBackward>)\n",
            "epoch: 1400 tensor(7084.4526, grad_fn=<MseLossBackward>)\n",
            "epoch: 1500 tensor(6832.0166, grad_fn=<MseLossBackward>)\n",
            "epoch: 1600 tensor(6560.5425, grad_fn=<MseLossBackward>)\n",
            "epoch: 1700 tensor(6344.0791, grad_fn=<MseLossBackward>)\n",
            "epoch: 1800 tensor(6187.6875, grad_fn=<MseLossBackward>)\n",
            "epoch: 1900 tensor(6024.3340, grad_fn=<MseLossBackward>)\n",
            "epoch: 2000 tensor(5911.2476, grad_fn=<MseLossBackward>)\n",
            "epoch: 2100 tensor(5789.0278, grad_fn=<MseLossBackward>)\n",
            "epoch: 2200 tensor(5713.9023, grad_fn=<MseLossBackward>)\n",
            "epoch: 2300 tensor(5647.5708, grad_fn=<MseLossBackward>)\n",
            "epoch: 2400 tensor(5511.0820, grad_fn=<MseLossBackward>)\n",
            "epoch: 2500 tensor(5478.9121, grad_fn=<MseLossBackward>)\n",
            "epoch: 2600 tensor(5343.2681, grad_fn=<MseLossBackward>)\n",
            "epoch: 2700 tensor(5179.0518, grad_fn=<MseLossBackward>)\n",
            "epoch: 2800 tensor(5134.8384, grad_fn=<MseLossBackward>)\n",
            "epoch: 2900 tensor(4998.0552, grad_fn=<MseLossBackward>)\n",
            "epoch: 3000 tensor(4911.0127, grad_fn=<MseLossBackward>)\n",
            "epoch: 3100 tensor(4824.7373, grad_fn=<MseLossBackward>)\n",
            "epoch: 3200 tensor(4786.7856, grad_fn=<MseLossBackward>)\n",
            "epoch: 3300 tensor(4664.8726, grad_fn=<MseLossBackward>)\n",
            "epoch: 3400 tensor(4657.5049, grad_fn=<MseLossBackward>)\n",
            "epoch: 3500 tensor(4597.4185, grad_fn=<MseLossBackward>)\n",
            "epoch: 3600 tensor(4452.8184, grad_fn=<MseLossBackward>)\n",
            "epoch: 3700 tensor(4539.0112, grad_fn=<MseLossBackward>)\n",
            "epoch: 3800 tensor(4311.8110, grad_fn=<MseLossBackward>)\n",
            "epoch: 3900 tensor(4248.2046, grad_fn=<MseLossBackward>)\n",
            "epoch: 4000 tensor(4297.4819, grad_fn=<MseLossBackward>)\n",
            "epoch: 4100 tensor(4136.8555, grad_fn=<MseLossBackward>)\n",
            "epoch: 4200 tensor(4271.3652, grad_fn=<MseLossBackward>)\n",
            "epoch: 4300 tensor(4023.5283, grad_fn=<MseLossBackward>)\n",
            "epoch: 4400 tensor(4153.3926, grad_fn=<MseLossBackward>)\n",
            "epoch: 4500 tensor(4036.4153, grad_fn=<MseLossBackward>)\n",
            "epoch: 4600 tensor(3875.6428, grad_fn=<MseLossBackward>)\n",
            "epoch: 4700 tensor(4027.4644, grad_fn=<MseLossBackward>)\n",
            "epoch: 4800 tensor(3862.2461, grad_fn=<MseLossBackward>)\n",
            "epoch: 4900 tensor(3924.5999, grad_fn=<MseLossBackward>)\n",
            "epoch: 5000 tensor(3710.9463, grad_fn=<MseLossBackward>)\n",
            "epoch: 5100 tensor(3682.4299, grad_fn=<MseLossBackward>)\n",
            "epoch: 5200 tensor(3632.3384, grad_fn=<MseLossBackward>)\n",
            "epoch: 5300 tensor(3671.6028, grad_fn=<MseLossBackward>)\n",
            "epoch: 5400 tensor(3596.6545, grad_fn=<MseLossBackward>)\n",
            "epoch: 5500 tensor(3554.7046, grad_fn=<MseLossBackward>)\n",
            "epoch: 5600 tensor(3616.6182, grad_fn=<MseLossBackward>)\n",
            "epoch: 5700 tensor(3603.6465, grad_fn=<MseLossBackward>)\n",
            "epoch: 5800 tensor(3511.4475, grad_fn=<MseLossBackward>)\n",
            "epoch: 5900 tensor(3473.6694, grad_fn=<MseLossBackward>)\n",
            "epoch: 6000 tensor(3543.8833, grad_fn=<MseLossBackward>)\n",
            "epoch: 6100 tensor(3374.1538, grad_fn=<MseLossBackward>)\n",
            "epoch: 6200 tensor(3428.8264, grad_fn=<MseLossBackward>)\n",
            "epoch: 6300 tensor(3514.8821, grad_fn=<MseLossBackward>)\n",
            "epoch: 6400 tensor(3346.6416, grad_fn=<MseLossBackward>)\n",
            "epoch: 6500 tensor(3299.2007, grad_fn=<MseLossBackward>)\n",
            "epoch: 6600 tensor(3394.5435, grad_fn=<MseLossBackward>)\n",
            "epoch: 6700 tensor(3235.6924, grad_fn=<MseLossBackward>)\n",
            "epoch: 6800 tensor(3205.1125, grad_fn=<MseLossBackward>)\n",
            "epoch: 6900 tensor(3308.6399, grad_fn=<MseLossBackward>)\n",
            "epoch: 7000 tensor(3469.2439, grad_fn=<MseLossBackward>)\n",
            "epoch: 7100 tensor(3248.8723, grad_fn=<MseLossBackward>)\n",
            "epoch: 7200 tensor(3120.1160, grad_fn=<MseLossBackward>)\n",
            "epoch: 7300 tensor(3126.6860, grad_fn=<MseLossBackward>)\n",
            "epoch: 7400 tensor(3221.2551, grad_fn=<MseLossBackward>)\n",
            "epoch: 7500 tensor(3190.4163, grad_fn=<MseLossBackward>)\n",
            "epoch: 7600 tensor(3067.9287, grad_fn=<MseLossBackward>)\n",
            "epoch: 7700 tensor(3048.5940, grad_fn=<MseLossBackward>)\n",
            "epoch: 7800 tensor(3369.7029, grad_fn=<MseLossBackward>)\n",
            "epoch: 7900 tensor(3132.0454, grad_fn=<MseLossBackward>)\n",
            "epoch: 8000 tensor(3136.7339, grad_fn=<MseLossBackward>)\n",
            "epoch: 8100 tensor(3046.7812, grad_fn=<MseLossBackward>)\n",
            "epoch: 8200 tensor(3016.8687, grad_fn=<MseLossBackward>)\n",
            "epoch: 8300 tensor(3102.4910, grad_fn=<MseLossBackward>)\n",
            "epoch: 8400 tensor(3083.0854, grad_fn=<MseLossBackward>)\n",
            "epoch: 8500 tensor(2895.4221, grad_fn=<MseLossBackward>)\n",
            "epoch: 8600 tensor(3050.6052, grad_fn=<MseLossBackward>)\n",
            "epoch: 8700 tensor(2836.5034, grad_fn=<MseLossBackward>)\n",
            "epoch: 8800 tensor(3151.5449, grad_fn=<MseLossBackward>)\n",
            "epoch: 8900 tensor(2889.4336, grad_fn=<MseLossBackward>)\n",
            "epoch: 9000 tensor(2955.9512, grad_fn=<MseLossBackward>)\n",
            "epoch: 9100 tensor(2934.4446, grad_fn=<MseLossBackward>)\n",
            "epoch: 9200 tensor(2803.7231, grad_fn=<MseLossBackward>)\n",
            "epoch: 9300 tensor(2889.3611, grad_fn=<MseLossBackward>)\n",
            "epoch: 9400 tensor(2876.3328, grad_fn=<MseLossBackward>)\n",
            "epoch: 9500 tensor(3005.1697, grad_fn=<MseLossBackward>)\n",
            "epoch: 9600 tensor(2819.1709, grad_fn=<MseLossBackward>)\n",
            "epoch: 9700 tensor(2739.9238, grad_fn=<MseLossBackward>)\n",
            "epoch: 9800 tensor(3708.4932, grad_fn=<MseLossBackward>)\n",
            "epoch: 9900 tensor(3283.5825, grad_fn=<MseLossBackward>)\n"
          ],
          "name": "stdout"
        }
      ]
    },
    {
      "cell_type": "code",
      "metadata": {
        "id": "Exgfp-vhPJE2",
        "colab_type": "code",
        "colab": {
          "base_uri": "https://localhost:8080/",
          "height": 296
        },
        "outputId": "729307e6-873c-4a26-a64f-5eea27dac5cf"
      },
      "source": [
        "plt.plot(range(epochs), losses)\n",
        "plt.ylabel('Loss with slow learning')\n",
        "plt.xlabel('epoch')"
      ],
      "execution_count": 176,
      "outputs": [
        {
          "output_type": "execute_result",
          "data": {
            "text/plain": [
              "Text(0.5, 0, 'epoch')"
            ]
          },
          "metadata": {
            "tags": []
          },
          "execution_count": 176
        },
        {
          "output_type": "display_data",
          "data": {
            "image/png": "[encoded data removed]",
            "text/plain": [
              "<Figure size 432x288 with 1 Axes>"
            ]
          },
          "metadata": {
            "tags": [],
            "needs_background": "light"
          }
        }
      ]
    },
    {
      "cell_type": "code",
      "metadata": {
        "id": "A7RF_6HyGYtG",
        "colab_type": "code",
        "colab": {
          "base_uri": "https://localhost:8080/",
          "height": 85
        },
        "outputId": "7ebb93eb-7d01-45d8-85c9-05a2e0129326"
      },
      "source": [
        "with torch.no_grad():\n",
        "  pred=model(Variable(x_test_tensor[5]))\n",
        "  print(\"Ground truth:\", y_test_tensor[5], \"Prediction:\", pred.item())\n",
        "  pred=model(Variable(x_test_tensor[10]))\n",
        "  print(\"Ground truth:\", y_test_tensor[10], \"Prediction:\", pred.item())\n",
        "\n",
        "with torch.no_grad():\n",
        "  predicted = model(Variable(x_train_tensor))\n",
        "\n",
        "from sklearn.metrics import mean_squared_error\n",
        "\n",
        "rmse = np.sqrt(mean_squared_error(y_train,predicted))\n",
        "print(\"Root Mean Squared Error Training Data : {}\".format(rmse))\n",
        "\n",
        "with torch.no_grad():\n",
        "  predicted = model(Variable(x_test_tensor))\n",
        "\n",
        "from sklearn.metrics import mean_squared_error\n",
        "\n",
        "rmse = np.sqrt(mean_squared_error(y_test,predicted))\n",
        "print(\"Root Mean Squared Error Test Data : {}\".format(rmse))"
      ],
      "execution_count": 177,
      "outputs": [
        {
          "output_type": "stream",
          "text": [
            "Ground truth: tensor(120.) Prediction: 111.24932861328125\n",
            "Ground truth: tensor(110.) Prediction: 88.75572204589844\n",
            "Root Mean Squared Error Training Data : 58.45990348279754\n",
            "Root Mean Squared Error Test Data : 86.92089310010027\n"
          ],
          "name": "stdout"
        }
      ]
    },
    {
      "cell_type": "code",
      "metadata": {
        "id": "DTnldDw01Hm3",
        "colab_type": "code",
        "colab": {
          "base_uri": "https://localhost:8080/",
          "height": 34
        },
        "outputId": "dd1b742b-46a3-492e-a0ea-86f803c6b673"
      },
      "source": [
        "\n"
      ],
      "execution_count": 157,
      "outputs": [
        {
          "output_type": "stream",
          "text": [
            "Root Mean Squared Error: 82.45624806190662\n"
          ],
          "name": "stdout"
        }
      ]
    }
  ]
}